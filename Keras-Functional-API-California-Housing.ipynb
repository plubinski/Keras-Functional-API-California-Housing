{
 "cells": [
  {
   "cell_type": "code",
   "execution_count": 67,
   "metadata": {},
   "outputs": [],
   "source": [
    "# Python ≥3.5 is required\n",
    "import sys\n",
    "assert sys.version_info >= (3, 5)\n",
    "\n",
    "# Scikit-Learn ≥0.20 is required\n",
    "import sklearn\n",
    "assert sklearn.__version__ >= \"0.20\"\n",
    "\n",
    "# TensorFlow ≥2.0-preview is required\n",
    "import tensorflow as tf\n",
    "from tensorflow import keras\n",
    "assert tf.__version__ >= \"2.0\"\n",
    "\n",
    "# Common imports\n",
    "import numpy as np\n",
    "import pandas as pd\n",
    "import os\n",
    "\n",
    "\n",
    "np.random.seed(1981)\n",
    "tf.random.set_seed(1981)\n",
    "\n",
    "# To plot pretty figures\n",
    "import matplotlib as mpl\n",
    "import matplotlib.pyplot as plt\n",
    "%matplotlib inline"
   ]
  },
  {
   "cell_type": "code",
   "execution_count": 68,
   "metadata": {},
   "outputs": [
    {
     "data": {
      "text/plain": [
       "('2.0.0-alpha0', '2.2.4-tf')"
      ]
     },
     "execution_count": 68,
     "metadata": {},
     "output_type": "execute_result"
    }
   ],
   "source": [
    "tf.__version__, keras.__version__"
   ]
  },
  {
   "cell_type": "markdown",
   "metadata": {},
   "source": [
    "# Functional API\n",
    "\n",
    "### DATASET\n",
    "This dataset is a modified version of the California Housing dataset available from Luís Torgo's page (University of Porto). Luís Torgo obtained it from the StatLib repository (which is closed now). The dataset may also be downloaded from StatLib mirrors.\n",
    "\n",
    "The following is the description from the book author:\n",
    "\n",
    "This dataset appeared in a 1997 paper titled Sparse Spatial Autoregressions by Pace, R. Kelley and Ronald Barry, published in the Statistics and Probability Letters journal. They built it using the 1990 California census data. It contains one row per census block group. A block group is the smallest geographical unit for which the U.S. Census Bureau publishes sample data (a block group typically has a population of 600 to 3,000 people).\n",
    "\n",
    "The dataset in this directory is almost identical to the original, with two differences: 207 values were randomly removed from the total_bedrooms column, so we can discuss what to do with missing data. An additional categorical attribute called ocean_proximity was added, indicating (very roughly) whether each block group is near the ocean, near the Bay area, inland or on an island. This allows discussing what to do with categorical data. Note that the block groups are called \"districts\" in the Jupyter notebooks, simply because in some contexts the name \"block group\" was confusing.\"\n",
    "\n",
    "About the Data (From Luís Torgo page):\n",
    "http://www.dcc.fc.up.pt/%7Eltorgo/Regression/cal_housing.html\n",
    "\n",
    "This is a dataset obtained from the StatLib repository. Here is the included description:\n",
    "\n",
    "\"We collected information on the variables using all the block groups in California from the 1990 Cens us. In this sample a block group on average includes 1425.5 individuals living in a geographically co mpact area. Naturally, the geographical area included varies inversely with the population density. W e computed distances among the centroids of each block group as measured in latitude and longitude. W e excluded all the block groups reporting zero entries for the independent and dependent variables. T he final data contained 20,640 observations on 9 variables. The dependent variable is ln(median house value).\""
   ]
  },
  {
   "cell_type": "code",
   "execution_count": 83,
   "metadata": {},
   "outputs": [],
   "source": [
    "from sklearn.datasets import fetch_california_housing\n",
    "from sklearn.model_selection import train_test_split\n",
    "from sklearn.preprocessing import StandardScaler"
   ]
  },
  {
   "cell_type": "code",
   "execution_count": 84,
   "metadata": {},
   "outputs": [],
   "source": [
    "housing = fetch_california_housing()\n",
    "\n",
    "X_train_full, X_test, y_train_full, y_test = train_test_split(housing.data, housing.target, random_state=42)\n",
    "X_train, X_valid, y_train, y_valid = train_test_split(X_train_full, y_train_full, random_state=42)\n",
    "\n",
    "scaler = StandardScaler()\n",
    "X_train = scaler.fit_transform(X_train)\n",
    "X_valid = scaler.transform(X_valid)\n",
    "X_test = scaler.transform(X_test)"
   ]
  },
  {
   "cell_type": "code",
   "execution_count": 85,
   "metadata": {},
   "outputs": [
    {
     "name": "stdout",
     "output_type": "stream",
     "text": [
      "Train on 11610 samples, validate on 3870 samples\n",
      "Epoch 1/20\n",
      "11610/11610 [==============================] - 1s 55us/sample - loss: 1.7935 - val_loss: 1.1242\n",
      "Epoch 2/20\n",
      "11610/11610 [==============================] - 0s 38us/sample - loss: 0.7584 - val_loss: 0.7740\n",
      "Epoch 3/20\n",
      "11610/11610 [==============================] - 0s 39us/sample - loss: 0.6860 - val_loss: 0.6590\n",
      "Epoch 4/20\n",
      "11610/11610 [==============================] - 0s 39us/sample - loss: 0.6365 - val_loss: 0.5946\n",
      "Epoch 5/20\n",
      "11610/11610 [==============================] - 0s 40us/sample - loss: 0.5967 - val_loss: 0.5593\n",
      "Epoch 6/20\n",
      "11610/11610 [==============================] - 0s 39us/sample - loss: 0.5621 - val_loss: 0.5319\n",
      "Epoch 7/20\n",
      "11610/11610 [==============================] - 0s 38us/sample - loss: 0.5330 - val_loss: 0.5065\n",
      "Epoch 8/20\n",
      "11610/11610 [==============================] - 0s 40us/sample - loss: 0.5091 - val_loss: 0.4926\n",
      "Epoch 9/20\n",
      "11610/11610 [==============================] - 0s 40us/sample - loss: 0.4894 - val_loss: 0.4760\n",
      "Epoch 10/20\n",
      "11610/11610 [==============================] - 0s 39us/sample - loss: 0.4732 - val_loss: 0.4638\n",
      "Epoch 11/20\n",
      "11610/11610 [==============================] - 0s 38us/sample - loss: 0.4596 - val_loss: 0.4558\n",
      "Epoch 12/20\n",
      "11610/11610 [==============================] - 0s 37us/sample - loss: 0.4490 - val_loss: 0.4639\n",
      "Epoch 13/20\n",
      "11610/11610 [==============================] - 0s 40us/sample - loss: 0.4401 - val_loss: 0.4424\n",
      "Epoch 14/20\n",
      "11610/11610 [==============================] - 0s 39us/sample - loss: 0.4328 - val_loss: 0.4541\n",
      "Epoch 15/20\n",
      "11610/11610 [==============================] - 0s 39us/sample - loss: 0.4271 - val_loss: 0.4307\n",
      "Epoch 16/20\n",
      "11610/11610 [==============================] - 0s 37us/sample - loss: 0.4221 - val_loss: 0.4477\n",
      "Epoch 17/20\n",
      "11610/11610 [==============================] - 0s 37us/sample - loss: 0.4178 - val_loss: 0.4663\n",
      "Epoch 18/20\n",
      "11610/11610 [==============================] - 0s 39us/sample - loss: 0.4139 - val_loss: 0.4364\n",
      "Epoch 19/20\n",
      "11610/11610 [==============================] - 0s 38us/sample - loss: 0.4113 - val_loss: 0.4242\n",
      "Epoch 20/20\n",
      "11610/11610 [==============================] - 0s 39us/sample - loss: 0.4084 - val_loss: 0.4190\n",
      "5160/5160 [==============================] - 0s 16us/sample - loss: 0.3952\n"
     ]
    }
   ],
   "source": [
    "model = keras.models.Sequential([\n",
    "    keras.layers.Dense(30, activation=\"relu\", input_shape=X_train.shape[1:]),\n",
    "    keras.layers.Dense(1)\n",
    "])\n",
    "model.compile(loss=\"mean_squared_error\", optimizer=\"sgd\")\n",
    "history = model.fit(X_train, y_train, epochs=20, validation_data=(X_valid, y_valid))\n",
    "mse_test = model.evaluate(X_test, y_test)\n",
    "X_new = X_test[:3]\n",
    "y_pred = model.predict(X_new)"
   ]
  },
  {
   "cell_type": "code",
   "execution_count": 86,
   "metadata": {},
   "outputs": [
    {
     "data": {
      "image/png": "[encoded data removed]",
      "text/plain": [
       "<Figure size 432x288 with 1 Axes>"
      ]
     },
     "metadata": {
      "needs_background": "light"
     },
     "output_type": "display_data"
    }
   ],
   "source": [
    "plt.plot(pd.DataFrame(history.history))\n",
    "plt.grid(True)\n",
    "plt.gca().set_ylim(0, 1)\n",
    "plt.show()"
   ]
  },
  {
   "cell_type": "code",
   "execution_count": 87,
   "metadata": {},
   "outputs": [
    {
     "data": {
      "text/plain": [
       "array([[0.666851 ],\n",
       "       [1.5663123],\n",
       "       [3.6176703]], dtype=float32)"
      ]
     },
     "execution_count": 87,
     "metadata": {},
     "output_type": "execute_result"
    }
   ],
   "source": [
    "y_pred"
   ]
  },
  {
   "cell_type": "markdown",
   "metadata": {},
   "source": [
    "### Functional API\n",
    "Not all neural network models are simply sequential. Some may have complex topologies. "
   ]
  },
  {
   "cell_type": "code",
   "execution_count": 88,
   "metadata": {},
   "outputs": [],
   "source": [
    "input = keras.layers.Input(shape=X_train.shape[1:])\n",
    "hidden1 = keras.layers.Dense(30, activation=\"relu\")(input)\n",
    "hidden2 = keras.layers.Dense(30, activation=\"relu\")(hidden1)\n",
    "concat = keras.layers.concatenate([input, hidden2])\n",
    "output = keras.layers.Dense(1)(concat)\n",
    "model = keras.models.Model(inputs=[input], outputs=[output])"
   ]
  },
  {
   "cell_type": "code",
   "execution_count": 89,
   "metadata": {},
   "outputs": [
    {
     "name": "stdout",
     "output_type": "stream",
     "text": [
      "Model: \"model_3\"\n",
      "__________________________________________________________________________________________________\n",
      "Layer (type)                    Output Shape         Param #     Connected to                     \n",
      "==================================================================================================\n",
      "input_4 (InputLayer)            [(None, 8)]          0                                            \n",
      "__________________________________________________________________________________________________\n",
      "dense_17 (Dense)                (None, 30)           270         input_4[0][0]                    \n",
      "__________________________________________________________________________________________________\n",
      "dense_18 (Dense)                (None, 30)           930         dense_17[0][0]                   \n",
      "__________________________________________________________________________________________________\n",
      "concatenate_3 (Concatenate)     (None, 38)           0           input_4[0][0]                    \n",
      "                                                                 dense_18[0][0]                   \n",
      "__________________________________________________________________________________________________\n",
      "dense_19 (Dense)                (None, 1)            39          concatenate_3[0][0]              \n",
      "==================================================================================================\n",
      "Total params: 1,239\n",
      "Trainable params: 1,239\n",
      "Non-trainable params: 0\n",
      "__________________________________________________________________________________________________\n"
     ]
    }
   ],
   "source": [
    "model.summary()"
   ]
  },
  {
   "cell_type": "code",
   "execution_count": 90,
   "metadata": {},
   "outputs": [
    {
     "name": "stdout",
     "output_type": "stream",
     "text": [
      "Train on 11610 samples, validate on 3870 samples\n",
      "Epoch 1/20\n",
      "11610/11610 [==============================] - 1s 60us/sample - loss: 2.1116 - val_loss: 2.5496\n",
      "Epoch 2/20\n",
      "11610/11610 [==============================] - 1s 43us/sample - loss: 0.7438 - val_loss: 0.7749\n",
      "Epoch 3/20\n",
      "11610/11610 [==============================] - 0s 42us/sample - loss: 0.6542 - val_loss: 0.6222\n",
      "Epoch 4/20\n",
      "11610/11610 [==============================] - 1s 43us/sample - loss: 0.6047 - val_loss: 0.5735\n",
      "Epoch 5/20\n",
      "11610/11610 [==============================] - 0s 42us/sample - loss: 0.5674 - val_loss: 0.5438\n",
      "Epoch 6/20\n",
      "11610/11610 [==============================] - 0s 41us/sample - loss: 0.5394 - val_loss: 0.5152\n",
      "Epoch 7/20\n",
      "11610/11610 [==============================] - 0s 41us/sample - loss: 0.5162 - val_loss: 0.4896\n",
      "Epoch 8/20\n",
      "11610/11610 [==============================] - 0s 41us/sample - loss: 0.4979 - val_loss: 0.4774\n",
      "Epoch 9/20\n",
      "11610/11610 [==============================] - 0s 41us/sample - loss: 0.4831 - val_loss: 0.4574\n",
      "Epoch 10/20\n",
      "11610/11610 [==============================] - 0s 41us/sample - loss: 0.4703 - val_loss: 0.4465\n",
      "Epoch 11/20\n",
      "11610/11610 [==============================] - 0s 42us/sample - loss: 0.4602 - val_loss: 0.4348\n",
      "Epoch 12/20\n",
      "11610/11610 [==============================] - 0s 41us/sample - loss: 0.4517 - val_loss: 0.4347\n",
      "Epoch 13/20\n",
      "11610/11610 [==============================] - 0s 43us/sample - loss: 0.4443 - val_loss: 0.4281\n",
      "Epoch 14/20\n",
      "11610/11610 [==============================] - 0s 42us/sample - loss: 0.4380 - val_loss: 0.4214\n",
      "Epoch 15/20\n",
      "11610/11610 [==============================] - 0s 41us/sample - loss: 0.4325 - val_loss: 0.4126\n",
      "Epoch 16/20\n",
      "11610/11610 [==============================] - 0s 41us/sample - loss: 0.4279 - val_loss: 0.4116\n",
      "Epoch 17/20\n",
      "11610/11610 [==============================] - 0s 41us/sample - loss: 0.4242 - val_loss: 0.4022\n",
      "Epoch 18/20\n",
      "11610/11610 [==============================] - 0s 41us/sample - loss: 0.4201 - val_loss: 0.4006\n",
      "Epoch 19/20\n",
      "11610/11610 [==============================] - 0s 42us/sample - loss: 0.4166 - val_loss: 0.3981\n",
      "Epoch 20/20\n",
      "11610/11610 [==============================] - 0s 40us/sample - loss: 0.4132 - val_loss: 0.3954\n",
      "5160/5160 [==============================] - 0s 16us/sample - loss: 0.4168\n"
     ]
    }
   ],
   "source": [
    "model.compile(loss=\"mean_squared_error\", optimizer=\"sgd\")\n",
    "history = model.fit(X_train, y_train, epochs=20,\n",
    "                    validation_data=(X_valid, y_valid))\n",
    "mse_test = model.evaluate(X_test, y_test)\n",
    "y_pred = model.predict(X_new)"
   ]
  },
  {
   "cell_type": "markdown",
   "metadata": {},
   "source": [
    "What if we want to send different subsets of input features through the wide or deep paths? We will send 5 features (features 0 to 4), and 6 through the deep path (features 2 to 7). Note that 3 features will go through both (features 2, 3 and 4)."
   ]
  },
  {
   "cell_type": "code",
   "execution_count": 91,
   "metadata": {},
   "outputs": [],
   "source": [
    "input_A = keras.layers.Input(shape=[5])\n",
    "input_B = keras.layers.Input(shape=[6])\n",
    "hidden1 = keras.layers.Dense(30, activation=\"relu\")(input_B)\n",
    "hidden2 = keras.layers.Dense(30, activation=\"relu\")(hidden1)\n",
    "concat = keras.layers.concatenate([input_A, hidden2])\n",
    "output = keras.layers.Dense(1)(concat)\n",
    "model = keras.models.Model(inputs=[input_A, input_B], outputs=[output])"
   ]
  },
  {
   "cell_type": "code",
   "execution_count": 92,
   "metadata": {},
   "outputs": [
    {
     "name": "stdout",
     "output_type": "stream",
     "text": [
      "Train on 11610 samples, validate on 3870 samples\n",
      "Epoch 1/20\n",
      "11610/11610 [==============================] - 1s 59us/sample - loss: 2.1379 - val_loss: 3.2553\n",
      "Epoch 2/20\n",
      "11610/11610 [==============================] - 1s 44us/sample - loss: 0.8744 - val_loss: 1.2832\n",
      "Epoch 3/20\n",
      "11610/11610 [==============================] - 1s 44us/sample - loss: 0.7094 - val_loss: 0.8046\n",
      "Epoch 4/20\n",
      "11610/11610 [==============================] - 0s 42us/sample - loss: 0.6440 - val_loss: 0.6550\n",
      "Epoch 5/20\n",
      "11610/11610 [==============================] - 0s 42us/sample - loss: 0.6031 - val_loss: 0.5875\n",
      "Epoch 6/20\n",
      "11610/11610 [==============================] - 0s 42us/sample - loss: 0.5723 - val_loss: 0.5509\n",
      "Epoch 7/20\n",
      "11610/11610 [==============================] - 0s 42us/sample - loss: 0.5471 - val_loss: 0.5247\n",
      "Epoch 8/20\n",
      "11610/11610 [==============================] - 1s 43us/sample - loss: 0.5261 - val_loss: 0.5028\n",
      "Epoch 9/20\n",
      "11610/11610 [==============================] - 1s 46us/sample - loss: 0.5086 - val_loss: 0.4908\n",
      "Epoch 10/20\n",
      "11610/11610 [==============================] - 1s 44us/sample - loss: 0.4942 - val_loss: 0.4784\n",
      "Epoch 11/20\n",
      "11610/11610 [==============================] - 1s 45us/sample - loss: 0.4827 - val_loss: 0.4702\n",
      "Epoch 12/20\n",
      "11610/11610 [==============================] - 1s 44us/sample - loss: 0.4727 - val_loss: 0.4661\n",
      "Epoch 13/20\n",
      "11610/11610 [==============================] - 0s 43us/sample - loss: 0.4639 - val_loss: 0.4658\n",
      "Epoch 14/20\n",
      "11610/11610 [==============================] - 0s 42us/sample - loss: 0.4566 - val_loss: 0.4681\n",
      "Epoch 15/20\n",
      "11610/11610 [==============================] - 0s 42us/sample - loss: 0.4503 - val_loss: 0.4687\n",
      "Epoch 16/20\n",
      "11610/11610 [==============================] - 1s 43us/sample - loss: 0.4452 - val_loss: 0.4777\n",
      "Epoch 17/20\n",
      "11610/11610 [==============================] - 0s 43us/sample - loss: 0.4411 - val_loss: 0.4774\n",
      "Epoch 18/20\n",
      "11610/11610 [==============================] - 0s 43us/sample - loss: 0.4374 - val_loss: 0.4755\n",
      "Epoch 19/20\n",
      "11610/11610 [==============================] - 0s 43us/sample - loss: 0.4343 - val_loss: 0.4764\n",
      "Epoch 20/20\n",
      "11610/11610 [==============================] - 0s 42us/sample - loss: 0.4312 - val_loss: 0.4797\n",
      "5160/5160 [==============================] - 0s 18us/sample - loss: 0.4194\n"
     ]
    }
   ],
   "source": [
    "model.compile(loss=\"mse\", optimizer=\"sgd\")\n",
    "\n",
    "X_train_A, X_train_B = X_train[:, :5], X_train[:, 2:]\n",
    "X_valid_A, X_valid_B = X_valid[:, :5], X_valid[:, 2:]\n",
    "X_test_A, X_test_B = X_test[:, :5], X_test[:, 2:]\n",
    "X_new_A, X_new_B = X_test_A[:3], X_test_B[:3]\n",
    "\n",
    "history = model.fit((X_train_A, X_train_B), y_train, epochs=20,\n",
    "                    validation_data=((X_valid_A, X_valid_B), y_valid))\n",
    "mse_test = model.evaluate((X_test_A, X_test_B), y_test)\n",
    "y_pred = model.predict((X_new_A, X_new_B))"
   ]
  },
  {
   "cell_type": "markdown",
   "metadata": {},
   "source": [
    "Adding an auxiliary output for regularization:"
   ]
  },
  {
   "cell_type": "code",
   "execution_count": 93,
   "metadata": {},
   "outputs": [],
   "source": [
    "input_A = keras.layers.Input(shape=[5])\n",
    "input_B = keras.layers.Input(shape=[6])\n",
    "hidden1 = keras.layers.Dense(30, activation=\"relu\")(input_B)\n",
    "hidden2 = keras.layers.Dense(30, activation=\"relu\")(hidden1)\n",
    "concat = keras.layers.concatenate([input_A, hidden2])\n",
    "output = keras.layers.Dense(1)(concat)\n",
    "aux_output = keras.layers.Dense(1)(hidden2)\n",
    "model = keras.models.Model(inputs=[input_A, input_B],\n",
    "                           outputs=[output, aux_output])"
   ]
  },
  {
   "cell_type": "code",
   "execution_count": 94,
   "metadata": {},
   "outputs": [],
   "source": [
    "model.compile(loss=[\"mse\", \"mse\"], loss_weights=[0.9, 0.1], optimizer=\"sgd\")"
   ]
  },
  {
   "cell_type": "code",
   "execution_count": 97,
   "metadata": {},
   "outputs": [
    {
     "name": "stdout",
     "output_type": "stream",
     "text": [
      "Train on 11610 samples, validate on 3870 samples\n",
      "Epoch 1/20\n",
      "11610/11610 [==============================] - 1s 52us/sample - loss: 0.4748 - dense_25_loss: 0.4286 - dense_26_loss: 0.8910 - val_loss: 0.4516 - val_dense_25_loss: 0.4007 - val_dense_26_loss: 0.9096\n",
      "Epoch 2/20\n",
      "11610/11610 [==============================] - 1s 52us/sample - loss: 0.4715 - dense_25_loss: 0.4265 - dense_26_loss: 0.8757 - val_loss: 0.4468 - val_dense_25_loss: 0.3973 - val_dense_26_loss: 0.8926\n",
      "Epoch 3/20\n",
      "11610/11610 [==============================] - 1s 51us/sample - loss: 0.4685 - dense_25_loss: 0.4249 - dense_26_loss: 0.8613 - val_loss: 0.4512 - val_dense_25_loss: 0.4038 - val_dense_26_loss: 0.8780\n",
      "Epoch 4/20\n",
      "11610/11610 [==============================] - 1s 52us/sample - loss: 0.4659 - dense_25_loss: 0.4234 - dense_26_loss: 0.8486 - val_loss: 0.4407 - val_dense_25_loss: 0.3937 - val_dense_26_loss: 0.8637\n",
      "Epoch 5/20\n",
      "11610/11610 [==============================] - 1s 53us/sample - loss: 0.4634 - dense_25_loss: 0.4219 - dense_26_loss: 0.8363 - val_loss: 0.4407 - val_dense_25_loss: 0.3951 - val_dense_26_loss: 0.8515\n",
      "Epoch 6/20\n",
      "11610/11610 [==============================] - 1s 52us/sample - loss: 0.4611 - dense_25_loss: 0.4207 - dense_26_loss: 0.8245 - val_loss: 0.4365 - val_dense_25_loss: 0.3918 - val_dense_26_loss: 0.8386\n",
      "Epoch 7/20\n",
      "11610/11610 [==============================] - 1s 52us/sample - loss: 0.4587 - dense_25_loss: 0.4193 - dense_26_loss: 0.8130 - val_loss: 0.4449 - val_dense_25_loss: 0.4020 - val_dense_26_loss: 0.8309\n",
      "Epoch 8/20\n",
      "11610/11610 [==============================] - 1s 50us/sample - loss: 0.4565 - dense_25_loss: 0.4181 - dense_26_loss: 0.8024 - val_loss: 0.4327 - val_dense_25_loss: 0.3902 - val_dense_26_loss: 0.8153\n",
      "Epoch 9/20\n",
      "11610/11610 [==============================] - 1s 51us/sample - loss: 0.4544 - dense_25_loss: 0.4168 - dense_26_loss: 0.7922 - val_loss: 0.4332 - val_dense_25_loss: 0.3916 - val_dense_26_loss: 0.8083\n",
      "Epoch 10/20\n",
      "11610/11610 [==============================] - 1s 52us/sample - loss: 0.4521 - dense_25_loss: 0.4154 - dense_26_loss: 0.7820 - val_loss: 0.4281 - val_dense_25_loss: 0.3875 - val_dense_26_loss: 0.7942\n",
      "Epoch 11/20\n",
      "11610/11610 [==============================] - 1s 51us/sample - loss: 0.4502 - dense_25_loss: 0.4143 - dense_26_loss: 0.7729 - val_loss: 0.4290 - val_dense_25_loss: 0.3890 - val_dense_26_loss: 0.7897\n",
      "Epoch 12/20\n",
      "11610/11610 [==============================] - 1s 51us/sample - loss: 0.4480 - dense_25_loss: 0.4130 - dense_26_loss: 0.7631 - val_loss: 0.4243 - val_dense_25_loss: 0.3849 - val_dense_26_loss: 0.7785\n",
      "Epoch 13/20\n",
      "11610/11610 [==============================] - 1s 50us/sample - loss: 0.4463 - dense_25_loss: 0.4121 - dense_26_loss: 0.7543 - val_loss: 0.4282 - val_dense_25_loss: 0.3908 - val_dense_26_loss: 0.7649\n",
      "Epoch 14/20\n",
      "11610/11610 [==============================] - 1s 52us/sample - loss: 0.4445 - dense_25_loss: 0.4109 - dense_26_loss: 0.7462 - val_loss: 0.4221 - val_dense_25_loss: 0.3848 - val_dense_26_loss: 0.7572\n",
      "Epoch 15/20\n",
      "11610/11610 [==============================] - 1s 50us/sample - loss: 0.4427 - dense_25_loss: 0.4099 - dense_26_loss: 0.7376 - val_loss: 0.4320 - val_dense_25_loss: 0.3955 - val_dense_26_loss: 0.7610\n",
      "Epoch 16/20\n",
      "11610/11610 [==============================] - 1s 50us/sample - loss: 0.4410 - dense_25_loss: 0.4090 - dense_26_loss: 0.7292 - val_loss: 0.4181 - val_dense_25_loss: 0.3818 - val_dense_26_loss: 0.7445\n",
      "Epoch 17/20\n",
      "11610/11610 [==============================] - 1s 52us/sample - loss: 0.4395 - dense_25_loss: 0.4080 - dense_26_loss: 0.7225 - val_loss: 0.4177 - val_dense_25_loss: 0.3818 - val_dense_26_loss: 0.7408\n",
      "Epoch 18/20\n",
      "11610/11610 [==============================] - 1s 51us/sample - loss: 0.4379 - dense_25_loss: 0.4071 - dense_26_loss: 0.7154 - val_loss: 0.4161 - val_dense_25_loss: 0.3808 - val_dense_26_loss: 0.7336\n",
      "Epoch 19/20\n",
      "11610/11610 [==============================] - 1s 52us/sample - loss: 0.4363 - dense_25_loss: 0.4061 - dense_26_loss: 0.7082 - val_loss: 0.4139 - val_dense_25_loss: 0.3790 - val_dense_26_loss: 0.7278\n",
      "Epoch 20/20\n",
      "11610/11610 [==============================] - 1s 51us/sample - loss: 0.4349 - dense_25_loss: 0.4052 - dense_26_loss: 0.7022 - val_loss: 0.4221 - val_dense_25_loss: 0.3878 - val_dense_26_loss: 0.7306\n"
     ]
    }
   ],
   "source": [
    "history = model.fit([X_train_A, X_train_B], [y_train, y_train], epochs=20,\n",
    "                    validation_data=([X_valid_A, X_valid_B], [y_valid, y_valid]))"
   ]
  },
  {
   "cell_type": "code",
   "execution_count": 96,
   "metadata": {},
   "outputs": [
    {
     "name": "stdout",
     "output_type": "stream",
     "text": [
      "5160/5160 [==============================] - 0s 24us/sample - loss: 0.4728 - dense_25_loss: 0.4271 - dense_26_loss: 0.8844\n"
     ]
    }
   ],
   "source": [
    "total_loss, main_loss, aux_loss = model.evaluate(\n",
    "    [X_test_A, X_test_B], [y_test, y_test])\n",
    "y_pred_main, y_pred_aux = model.predict([X_new_A, X_new_B])"
   ]
  },
  {
   "cell_type": "code",
   "execution_count": null,
   "metadata": {},
   "outputs": [],
   "source": []
  }
 ],
 "metadata": {
  "kernelspec": {
   "display_name": "Python 3",
   "language": "python",
   "name": "python3"
  },
  "language_info": {
   "codemirror_mode": {
    "name": "ipython",
    "version": 3
   },
   "file_extension": ".py",
   "mimetype": "text/x-python",
   "name": "python",
   "nbconvert_exporter": "python",
   "pygments_lexer": "ipython3",
   "version": "3.7.3"
  }
 },
 "nbformat": 4,
 "nbformat_minor": 2
}
